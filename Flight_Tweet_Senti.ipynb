{
 "cells": [
  {
   "cell_type": "markdown",
   "id": "b4561d60-b3c6-41cc-82b7-f3b679c09af8",
   "metadata": {},
   "source": [
    "I submitted this version a little bit late since I don't think the last version was perfect, and I indeed managed to make some optimizations over the codes.(The last version of mine is enough for a good mark but I just want to be a little bit more perfect.)\n",
    "    1. Did some data preprocessing to clean the text.\n",
    "    2. Used another model found on kaggle which “ was initialized from the base Wikipedia + BooksCorpus BERT model and was fine-tuned on the Stanford Sentiment Treebank (SST-2), a dataset for sentiment analysis.” The model runs pretty well, and yet hit the 90 percent wall as well.\n",
    "    3. Optimized the model applying process so that it would take less memory( my PC kept crashing for that reason)\n",
    "    4. fixed some bug.\n",
    "    \n",
    "Things to notice:\n",
    "    My tensorflow was not the best version due to the limitation of my hardware. So something might not be optimized the most.\n",
    "    There are irony in terms of some complains which would be one of a obvious reason for error."
   ]
  },
  {
   "cell_type": "code",
   "execution_count": 1,
   "id": "b2c743d0-bb75-4b37-9342-857f2ff3cf50",
   "metadata": {},
   "outputs": [
    {
     "data": {
      "text/plain": [
       "[PhysicalDevice(name='/physical_device:GPU:0', device_type='GPU')]"
      ]
     },
     "execution_count": 1,
     "metadata": {},
     "output_type": "execute_result"
    }
   ],
   "source": [
    "import numpy as np\n",
    "import tensorflow as tf\n",
    "tf.config.list_physical_devices('GPU') # list available GPU"
   ]
  },
  {
   "cell_type": "code",
   "execution_count": 2,
   "id": "15df1ac1-d574-41f1-b3f8-19a3857a083f",
   "metadata": {},
   "outputs": [
    {
     "name": "stderr",
     "output_type": "stream",
     "text": [
      "[nltk_data] Downloading package stopwords to\n",
      "[nltk_data]     C:\\Users\\84648\\AppData\\Roaming\\nltk_data...\n",
      "[nltk_data]   Package stopwords is already up-to-date!\n",
      "[nltk_data] Downloading package punkt to\n",
      "[nltk_data]     C:\\Users\\84648\\AppData\\Roaming\\nltk_data...\n",
      "[nltk_data]   Package punkt is already up-to-date!\n",
      "[nltk_data] Downloading package wordnet to\n",
      "[nltk_data]     C:\\Users\\84648\\AppData\\Roaming\\nltk_data...\n",
      "[nltk_data]   Package wordnet is already up-to-date!\n"
     ]
    }
   ],
   "source": [
    "# text cleaning\n",
    "import re\n",
    "import string\n",
    "import nltk\n",
    "nltk.download('stopwords')\n",
    "nltk.download('punkt')\n",
    "nltk.download('wordnet')\n",
    "from nltk.corpus import stopwords\n",
    "\n",
    "def preprocess_text(text):\n",
    "    text = text.lower()\n",
    "    text = re.sub(r'd+','',text)\n",
    "    text = re.sub(r'[^\\w\\s]','',text)\n",
    "    tokens = nltk.word_tokenize(text)\n",
    "    return tokens\n",
    "\n",
    "def remove_stopwords(tokens):\n",
    "    stop_words = set(stopwords.words('english'))\n",
    "    filtered_tokens = [word for word in tokens if word not in stop_words]\n",
    "    return filtered_tokens\n",
    "\n",
    "def perform_lemmatization(tokens):\n",
    "    lemmatizer = nltk.WordNetLemmatizer()\n",
    "    lemmatized_tokens = [lemmatizer.lemmatize(token) for token in tokens]\n",
    "    return lemmatized_tokens\n",
    "\n",
    "def clean_text(text):\n",
    "    tokens = preprocess_text(text)\n",
    "    filtered_tokens = remove_stopwords(tokens)\n",
    "    lemmatized_tokens = perform_lemmatization(filtered_tokens)\n",
    "    clean_text = ''.join(lemmatized_tokens)\n",
    "    return clean_text"
   ]
  },
  {
   "cell_type": "code",
   "execution_count": 3,
   "id": "8e4aea65-fdaa-43bd-979e-924fdc0c0a98",
   "metadata": {},
   "outputs": [
    {
     "name": "stderr",
     "output_type": "stream",
     "text": [
      "[nltk_data] Downloading package wordnet to\n",
      "[nltk_data]     C:\\Users\\84648\\AppData\\Roaming\\nltk_data...\n",
      "[nltk_data]   Package wordnet is already up-to-date!\n"
     ]
    },
    {
     "data": {
      "text/plain": [
       "True"
      ]
     },
     "execution_count": 3,
     "metadata": {},
     "output_type": "execute_result"
    }
   ],
   "source": [
    "nltk.download('wordnet')"
   ]
  },
  {
   "cell_type": "code",
   "execution_count": 4,
   "id": "5b8adaaf-6c4d-4c77-9512-cbf734da17eb",
   "metadata": {},
   "outputs": [],
   "source": [
    "from tensorflow import keras\n",
    "from tensorflow.keras.utils import text_dataset_from_directory\n",
    "from tensorflow.keras.layers import Input, Dense, Embedding, Dropout, TextVectorization, Bidirectional, GlobalMaxPooling1D, GRU\n",
    "\n",
    "import matplotlib.pyplot as plt\n",
    "def plotEpoch( history, metric='acc'):\n",
    "    epochs = range(len(history['loss']))\n",
    "    if metric=='acc':\n",
    "        plt.plot(epochs, history['accuracy'], 'k', label='Training acc')\n",
    "        val = history['val_accuracy']\n",
    "        plt.plot(epochs, val, 'b', label='Validation acc')\n",
    "        plt.axvline(x=val.index(max(val)), color='r')\n",
    "        plt.title('Training and validation accuracy')\n",
    "        plt.legend()\n",
    "        plt.figure()\n",
    "    elif metric=='loss':\n",
    "        plt.plot(epochs, history['loss'], 'k', label='Training loss')\n",
    "        val = history['val_loss']\n",
    "        plt.plot(epochs, val, 'b', label='Validation loss')\n",
    "        plt.axvline(x=val.index(min(val)), color='r')\n",
    "        plt.title('Training and validation loss')\n",
    "        plt.legend()\n",
    "        plt.show()"
   ]
  },
  {
   "cell_type": "code",
   "execution_count": 5,
   "id": "e1c734e4",
   "metadata": {},
   "outputs": [
    {
     "data": {
      "text/plain": [
       "(['@united oh I switched to AA abt a year ago after hitting MM status. but do have a flight soon on UA so was curious.\\n',\n",
       "  \"@AlaskaAir yes! Can't wait to check out your local booze selection on board! Cheers!\\n\",\n",
       "  \"Got to love @JetBlue! Can't wait to book my next trip @greggweiss\\n\",\n",
       "  'Have no fear @JetBlue is here April 30th!! #cleveland @clevelanddotcom @CleveNOW #Boston #FtLauderdale @Chestertucky @TedDimond @bnorris99\\n',\n",
       "  \"Can't wait to meet #Skeeter and his #NutFree cookies on @JetBlue tomorrow morning\\n\"],\n",
       " ['Have spent over 4 hours trying to purchase tickets on a @united MileagePlus Explorer card. On hold again. Thinking @SouthwestAir next time.\\n',\n",
       "  '.@HeathrowAirport waiting on @united 97 from Houston #planespotting #travel http://t.co/VVcmIv4I88\\n',\n",
       "  'As a 1K frequent flyer on @united I can honestly say I have never been more frustrated with this airline. Becoming worse by the day\\n',\n",
       "  \"For an industry that's in dire need of a business model shakeup. it's sad to see @JetBlue give up http://t.co/maqrRiLlUk\\n\",\n",
       "  '@AmericanAir mobile app update broke drop down menus to fill in country and state to complete check in. Help!\\n'],\n",
       " 7567,\n",
       " 8019)"
      ]
     },
     "execution_count": 5,
     "metadata": {},
     "output_type": "execute_result"
    }
   ],
   "source": [
    "# Load the data from the uploaded files\n",
    "pos_file_path = 'C:/Users/84648/Desktop/DeepLearningFinal/pos.txt'\n",
    "neg_file_path = 'C:/Users/84648/Desktop/DeepLearningFinal/neg.txt'\n",
    "\n",
    "# Reading the content of positive and negative result files\n",
    "with open(pos_file_path, 'r', encoding='utf-8') as pos_file:\n",
    "    pos_samples = pos_file.readlines()\n",
    "\n",
    "with open(neg_file_path, 'r', encoding='utf-8') as neg_file:\n",
    "    neg_samples = neg_file.readlines()\n",
    "\n",
    "# Show a sample of the data (first 5 samples from each)\n",
    "pos_samples[:5], neg_samples[:5], len(pos_samples), len(neg_samples)\n"
   ]
  },
  {
   "cell_type": "code",
   "execution_count": 6,
   "id": "5e98852c",
   "metadata": {},
   "outputs": [
    {
     "data": {
      "text/plain": [
       "((12468,), (3118,), (12468,), (3118,))"
      ]
     },
     "execution_count": 6,
     "metadata": {},
     "output_type": "execute_result"
    }
   ],
   "source": [
    "from sklearn.model_selection import train_test_split\n",
    "\n",
    "\n",
    "# Preprocess the data: Basic cleaning and removing newline characters\n",
    "pos_clean = []\n",
    "for i in pos_samples:\n",
    "    pos_clean.append(clean_text(i))\n",
    "\n",
    "neg_clean = []\n",
    "for i in neg_samples:\n",
    "    neg_clean.append(clean_text(i))\n",
    "\n",
    "# Label the data: 1 for positive, 0 for negative\n",
    "pos_labels = [1] * len(pos_clean)\n",
    "neg_labels = [0] * len(neg_clean)\n",
    "\n",
    "# Combine data and labels\n",
    "samples = pos_clean + neg_clean\n",
    "labels = pos_labels + neg_labels\n",
    "\n",
    "# Convert lists to numpy arrays for compatibility with TensorFlow\n",
    "samples_array = np.array(samples)\n",
    "labels_array = np.array(labels)\n",
    "\n",
    "# Shuffle and split into training and validation sets\n",
    "samples_train, samples_val, labels_train, labels_val = train_test_split(samples_array, labels_array, test_size=0.2, random_state=42)\n",
    "\n",
    "# Show the sizes of the splits\n",
    "samples_train.shape, samples_val.shape, labels_train.shape, labels_val.shape\n"
   ]
  },
  {
   "cell_type": "code",
   "execution_count": 7,
   "id": "60291e52",
   "metadata": {},
   "outputs": [],
   "source": [
    "# Create TensorFlow Dataset objects for both training and validation sets\n",
    "train_dataset = tf.data.Dataset.from_tensor_slices((samples_train, labels_train))\n",
    "val_dataset = tf.data.Dataset.from_tensor_slices((samples_val, labels_val))\n",
    "\n",
    "# Batch the datasets\n",
    "train_dataset = train_dataset.batch(12)\n",
    "val_dataset = val_dataset.batch(12)"
   ]
  },
  {
   "cell_type": "code",
   "execution_count": null,
   "id": "7ba7f2f2-c66b-4918-a145-5d4f9c70e250",
   "metadata": {},
   "outputs": [],
   "source": []
  },
  {
   "cell_type": "code",
   "execution_count": 11,
   "id": "a51540ae-b274-4386-8ae8-5695a096e5c5",
   "metadata": {},
   "outputs": [
    {
     "data": {
      "text/plain": [
       "array([0, 1, 0, 1, 0])"
      ]
     },
     "execution_count": 11,
     "metadata": {},
     "output_type": "execute_result"
    }
   ],
   "source": [
    "labels_train[0:5]"
   ]
  },
  {
   "cell_type": "code",
   "execution_count": null,
   "id": "f468ab76-d37b-41b4-9e4e-46b4f5fa1f98",
   "metadata": {},
   "outputs": [],
   "source": []
  },
  {
   "cell_type": "code",
   "execution_count": null,
   "id": "14f1350c-0675-41ae-ba78-93f419cdc5f8",
   "metadata": {},
   "outputs": [],
   "source": []
  },
  {
   "cell_type": "code",
   "execution_count": 3,
   "id": "0f38a898-f15e-466b-b9fd-241d72b28945",
   "metadata": {},
   "outputs": [
    {
     "name": "stderr",
     "output_type": "stream",
     "text": [
      "C:\\Users\\84648\\anaconda3\\envs\\myenv\\lib\\site-packages\\tensorflow_addons\\utils\\tfa_eol_msg.py:23: UserWarning: \n",
      "\n",
      "TensorFlow Addons (TFA) has ended development and introduction of new features.\n",
      "TFA has entered a minimal maintenance and release mode until a planned end of life in May 2024.\n",
      "Please modify downstream libraries to take dependencies from other repositories in our TensorFlow community (e.g. Keras, Keras-CV, and Keras-NLP). \n",
      "\n",
      "For more information see: https://github.com/tensorflow/addons/issues/2807 \n",
      "\n",
      "  warnings.warn(\n",
      "C:\\Users\\84648\\anaconda3\\envs\\myenv\\lib\\site-packages\\tensorflow_addons\\utils\\ensure_tf_install.py:53: UserWarning: Tensorflow Addons supports using Python ops for all Tensorflow versions above or equal to 2.11.0 and strictly below 2.14.0 (nightly versions are not supported). \n",
      " The versions of TensorFlow you are currently using is 2.10.1 and is not supported. \n",
      "Some things might work, some things might not.\n",
      "If you were to encounter a bug, do not file an issue.\n",
      "If you want to make sure you're using a tested and supported configuration, either change the TensorFlow version or the TensorFlow Addons's version. \n",
      "You can find the compatibility matrix in TensorFlow Addon's readme:\n",
      "https://github.com/tensorflow/addons\n",
      "  warnings.warn(\n"
     ]
    }
   ],
   "source": [
    "import tensorflow_hub as hub\n",
    "import tensorflow_text\n",
    "from official.nlp import optimization"
   ]
  },
  {
   "cell_type": "code",
   "execution_count": 4,
   "id": "4ac67cb2-e61a-406b-8a62-4c002a94cada",
   "metadata": {},
   "outputs": [],
   "source": [
    "# @title\n",
    "map_name_to_handle = {\n",
    "    'bert_en_uncased_L-12_H-768_A-12': 'https://tfhub.dev/tensorflow/bert_en_uncased_L-12_H-768_A-12/3',\n",
    "    'bert_en_cased_L-12_H-768_A-12': 'https://tfhub.dev/tensorflow/bert_en_cased_L-12_H-768_A-12/3',\n",
    "    'bert_multi_cased_L-12_H-768_A-12': 'https://tfhub.dev/tensorflow/bert_multi_cased_L-12_H-768_A-12/3',\n",
    "    'small_bert/bert_en_uncased_L-2_H-128_A-2': 'https://tfhub.dev/tensorflow/small_bert/bert_en_uncased_L-2_H-128_A-2/1',\n",
    "    'small_bert/bert_en_uncased_L-2_H-256_A-4': 'https://tfhub.dev/tensorflow/small_bert/bert_en_uncased_L-2_H-256_A-4/1',\n",
    "    'small_bert/bert_en_uncased_L-2_H-512_A-8': 'https://tfhub.dev/tensorflow/small_bert/bert_en_uncased_L-2_H-512_A-8/1',\n",
    "    'small_bert/bert_en_uncased_L-2_H-768_A-12': 'https://tfhub.dev/tensorflow/small_bert/bert_en_uncased_L-2_H-768_A-12/1',\n",
    "    'small_bert/bert_en_uncased_L-4_H-128_A-2': 'https://tfhub.dev/tensorflow/small_bert/bert_en_uncased_L-4_H-128_A-2/1',\n",
    "    'small_bert/bert_en_uncased_L-4_H-256_A-4': 'https://tfhub.dev/tensorflow/small_bert/bert_en_uncased_L-4_H-256_A-4/1',\n",
    "    'small_bert/bert_en_uncased_L-4_H-512_A-8': 'https://tfhub.dev/tensorflow/small_bert/bert_en_uncased_L-4_H-512_A-8/1',\n",
    "    'small_bert/bert_en_uncased_L-4_H-768_A-12': 'https://tfhub.dev/tensorflow/small_bert/bert_en_uncased_L-4_H-768_A-12/1',\n",
    "    'small_bert/bert_en_uncased_L-6_H-128_A-2': 'https://tfhub.dev/tensorflow/small_bert/bert_en_uncased_L-6_H-128_A-2/1',\n",
    "    'small_bert/bert_en_uncased_L-6_H-256_A-4': 'https://tfhub.dev/tensorflow/small_bert/bert_en_uncased_L-6_H-256_A-4/1',\n",
    "    'small_bert/bert_en_uncased_L-6_H-512_A-8': 'https://tfhub.dev/tensorflow/small_bert/bert_en_uncased_L-6_H-512_A-8/1',\n",
    "    'small_bert/bert_en_uncased_L-6_H-768_A-12': 'https://tfhub.dev/tensorflow/small_bert/bert_en_uncased_L-6_H-768_A-12/1',\n",
    "    'small_bert/bert_en_uncased_L-8_H-128_A-2': 'https://tfhub.dev/tensorflow/small_bert/bert_en_uncased_L-8_H-128_A-2/1',\n",
    "    'small_bert/bert_en_uncased_L-8_H-256_A-4': 'https://tfhub.dev/tensorflow/small_bert/bert_en_uncased_L-8_H-256_A-4/1',\n",
    "    'small_bert/bert_en_uncased_L-8_H-512_A-8': 'https://tfhub.dev/tensorflow/small_bert/bert_en_uncased_L-8_H-512_A-8/1',\n",
    "    'small_bert/bert_en_uncased_L-8_H-768_A-12': 'https://tfhub.dev/tensorflow/small_bert/bert_en_uncased_L-8_H-768_A-12/1',\n",
    "    'small_bert/bert_en_uncased_L-10_H-128_A-2': 'https://tfhub.dev/tensorflow/small_bert/bert_en_uncased_L-10_H-128_A-2/1',\n",
    "    'small_bert/bert_en_uncased_L-10_H-256_A-4': 'https://tfhub.dev/tensorflow/small_bert/bert_en_uncased_L-10_H-256_A-4/1',\n",
    "    'small_bert/bert_en_uncased_L-10_H-512_A-8': 'https://tfhub.dev/tensorflow/small_bert/bert_en_uncased_L-10_H-512_A-8/1',\n",
    "    'small_bert/bert_en_uncased_L-10_H-768_A-12': 'https://tfhub.dev/tensorflow/small_bert/bert_en_uncased_L-10_H-768_A-12/1',\n",
    "    'small_bert/bert_en_uncased_L-12_H-128_A-2': 'https://tfhub.dev/tensorflow/small_bert/bert_en_uncased_L-12_H-128_A-2/1',\n",
    "    'small_bert/bert_en_uncased_L-12_H-256_A-4': 'https://tfhub.dev/tensorflow/small_bert/bert_en_uncased_L-12_H-256_A-4/1',\n",
    "    'small_bert/bert_en_uncased_L-12_H-512_A-8': 'https://tfhub.dev/tensorflow/small_bert/bert_en_uncased_L-12_H-512_A-8/1',\n",
    "    'small_bert/bert_en_uncased_L-12_H-768_A-12': 'https://tfhub.dev/tensorflow/small_bert/bert_en_uncased_L-12_H-768_A-12/1',\n",
    "    'albert_en_base': 'https://tfhub.dev/tensorflow/albert_en_base/2',\n",
    "    'electra_small': 'https://tfhub.dev/google/electra_small/2',\n",
    "    'electra_base': 'https://tfhub.dev/google/electra_base/2',\n",
    "    'experts_pubmed': 'https://tfhub.dev/google/experts/bert/pubmed/2',\n",
    "    'experts_wiki_books': 'https://tfhub.dev/google/experts/bert/wiki_books/2',\n",
    "    'talking-heads_base': 'https://tfhub.dev/tensorflow/talkheads_ggelu_bert_en_base/1',\n",
    "    'SST-2' :'https://www.kaggle.com/models/google/experts-bert/frameworks/TensorFlow2/variations/wiki-books-sst2/versions/2'}\n",
    "\n",
    "map_model_to_preprocess = {\n",
    "    'bert_en_uncased_L-12_H-768_A-12': 'https://tfhub.dev/tensorflow/bert_en_uncased_preprocess/3',\n",
    "    'bert_en_cased_L-12_H-768_A-12': 'https://tfhub.dev/tensorflow/bert_en_cased_preprocess/3',\n",
    "    'small_bert/bert_en_uncased_L-2_H-128_A-2': 'https://tfhub.dev/tensorflow/bert_en_uncased_preprocess/3',\n",
    "    'small_bert/bert_en_uncased_L-2_H-256_A-4': 'https://tfhub.dev/tensorflow/bert_en_uncased_preprocess/3',\n",
    "    'small_bert/bert_en_uncased_L-2_H-512_A-8': 'https://tfhub.dev/tensorflow/bert_en_uncased_preprocess/3',\n",
    "    'small_bert/bert_en_uncased_L-2_H-768_A-12': 'https://tfhub.dev/tensorflow/bert_en_uncased_preprocess/3',\n",
    "    'small_bert/bert_en_uncased_L-4_H-128_A-2': 'https://tfhub.dev/tensorflow/bert_en_uncased_preprocess/3',\n",
    "    'small_bert/bert_en_uncased_L-4_H-256_A-4': 'https://tfhub.dev/tensorflow/bert_en_uncased_preprocess/3',\n",
    "    'small_bert/bert_en_uncased_L-4_H-512_A-8': 'https://tfhub.dev/tensorflow/bert_en_uncased_preprocess/3',\n",
    "    'small_bert/bert_en_uncased_L-4_H-768_A-12': 'https://tfhub.dev/tensorflow/bert_en_uncased_preprocess/3',\n",
    "    'small_bert/bert_en_uncased_L-6_H-128_A-2': 'https://tfhub.dev/tensorflow/bert_en_uncased_preprocess/3',\n",
    "    'small_bert/bert_en_uncased_L-6_H-256_A-4': 'https://tfhub.dev/tensorflow/bert_en_uncased_preprocess/3',\n",
    "    'small_bert/bert_en_uncased_L-6_H-512_A-8': 'https://tfhub.dev/tensorflow/bert_en_uncased_preprocess/3',\n",
    "    'small_bert/bert_en_uncased_L-6_H-768_A-12': 'https://tfhub.dev/tensorflow/bert_en_uncased_preprocess/3',\n",
    "    'small_bert/bert_en_uncased_L-8_H-128_A-2': 'https://tfhub.dev/tensorflow/bert_en_uncased_preprocess/3',\n",
    "    'small_bert/bert_en_uncased_L-8_H-256_A-4': 'https://tfhub.dev/tensorflow/bert_en_uncased_preprocess/3',\n",
    "    'small_bert/bert_en_uncased_L-8_H-512_A-8': 'https://tfhub.dev/tensorflow/bert_en_uncased_preprocess/3',\n",
    "    'small_bert/bert_en_uncased_L-8_H-768_A-12': 'https://tfhub.dev/tensorflow/bert_en_uncased_preprocess/3',\n",
    "    'small_bert/bert_en_uncased_L-10_H-128_A-2': 'https://tfhub.dev/tensorflow/bert_en_uncased_preprocess/3',\n",
    "    'small_bert/bert_en_uncased_L-10_H-256_A-4': 'https://tfhub.dev/tensorflow/bert_en_uncased_preprocess/3',\n",
    "    'small_bert/bert_en_uncased_L-10_H-512_A-8': 'https://tfhub.dev/tensorflow/bert_en_uncased_preprocess/3',\n",
    "    'small_bert/bert_en_uncased_L-10_H-768_A-12': 'https://tfhub.dev/tensorflow/bert_en_uncased_preprocess/3',\n",
    "    'small_bert/bert_en_uncased_L-12_H-128_A-2': 'https://tfhub.dev/tensorflow/bert_en_uncased_preprocess/3',\n",
    "    'small_bert/bert_en_uncased_L-12_H-256_A-4': 'https://tfhub.dev/tensorflow/bert_en_uncased_preprocess/3',\n",
    "    'small_bert/bert_en_uncased_L-12_H-512_A-8': 'https://tfhub.dev/tensorflow/bert_en_uncased_preprocess/3',\n",
    "    'small_bert/bert_en_uncased_L-12_H-768_A-12': 'https://tfhub.dev/tensorflow/bert_en_uncased_preprocess/3',\n",
    "    'bert_multi_cased_L-12_H-768_A-12': 'https://tfhub.dev/tensorflow/bert_multi_cased_preprocess/3',\n",
    "    'albert_en_base': 'https://tfhub.dev/tensorflow/albert_en_preprocess/3',\n",
    "    'electra_small': 'https://tfhub.dev/tensorflow/bert_en_uncased_preprocess/3',\n",
    "    'electra_base': 'https://tfhub.dev/tensorflow/bert_en_uncased_preprocess/3',\n",
    "    'experts_pubmed': 'https://tfhub.dev/tensorflow/bert_en_uncased_preprocess/3',\n",
    "    'experts_wiki_books': 'https://tfhub.dev/tensorflow/bert_en_uncased_preprocess/3',\n",
    "    'talking-heads_base': 'https://tfhub.dev/tensorflow/bert_en_uncased_preprocess/3', \n",
    "    'SST-2' : 'https://kaggle.com/models/tensorflow/bert/frameworks/TensorFlow2/variations/en-uncased-preprocess/versions/3'\n",
    "}\n",
    "#bert_multi_cased_L-12_H-768_A-12 can't run on my PC\n",
    "#'bert_en_cased_L-12_H-768_A-12 can't either\n",
    "#'bert_en_cased_L-12_H-768_A-12' can't eithe\n",
    "\n",
    "#'small_bert/bert_en_uncased_L-4_H-512_A-8' can\n",
    "# L-6 can\n",
    "# L-8 can\n",
    "#L-12 can\n",
    "#L-10_H-768_A-12  nope\n",
    "#small_bert/bert_en_uncased_L-12_H-512_A-8 can! results are 90(good)\n",
    "#'albert_en_base' can!@!@! also 90"
   ]
  },
  {
   "cell_type": "code",
   "execution_count": 5,
   "id": "f1e9ac20-48be-44db-9a2b-cef97100803d",
   "metadata": {},
   "outputs": [
    {
     "ename": "ValueError",
     "evalue": "Trying to load a model of incompatible/unknown type. 'C:\\Users\\84648\\AppData\\Local\\Temp\\tfhub_modules\\4e777089f1941e0df686e25ac7b1967fd777e370' contains neither 'saved_model.pb' nor 'saved_model.pbtxt'.",
     "output_type": "error",
     "traceback": [
      "\u001b[1;31m---------------------------------------------------------------------------\u001b[0m",
      "\u001b[1;31mValueError\u001b[0m                                Traceback (most recent call last)",
      "Cell \u001b[1;32mIn[5], line 3\u001b[0m\n\u001b[0;32m      1\u001b[0m bert_model_name \u001b[38;5;241m=\u001b[39m \u001b[38;5;124m'\u001b[39m\u001b[38;5;124mSST-2\u001b[39m\u001b[38;5;124m'\u001b[39m\n\u001b[0;32m      2\u001b[0m tfhub_handle_encoder \u001b[38;5;241m=\u001b[39m map_name_to_handle[bert_model_name]\n\u001b[1;32m----> 3\u001b[0m bert_model \u001b[38;5;241m=\u001b[39m \u001b[43mhub\u001b[49m\u001b[38;5;241;43m.\u001b[39;49m\u001b[43mKerasLayer\u001b[49m\u001b[43m(\u001b[49m\u001b[43mtfhub_handle_encoder\u001b[49m\u001b[43m)\u001b[49m\n\u001b[0;32m      4\u001b[0m tfhub_handle_preprocess \u001b[38;5;241m=\u001b[39m map_model_to_preprocess[bert_model_name]\n\u001b[0;32m      5\u001b[0m bert_preprocess_model \u001b[38;5;241m=\u001b[39m hub\u001b[38;5;241m.\u001b[39mKerasLayer(tfhub_handle_preprocess)\n",
      "File \u001b[1;32m~\\anaconda3\\envs\\myenv\\lib\\site-packages\\tensorflow_hub\\keras_layer.py:165\u001b[0m, in \u001b[0;36mKerasLayer.__init__\u001b[1;34m(self, handle, trainable, arguments, _sentinel, tags, signature, signature_outputs_as_dict, output_key, output_shape, load_options, **kwargs)\u001b[0m\n\u001b[0;32m    161\u001b[0m   \u001b[38;5;28mself\u001b[39m\u001b[38;5;241m.\u001b[39m_output_shape \u001b[38;5;241m=\u001b[39m data_structures\u001b[38;5;241m.\u001b[39mNoDependency(\n\u001b[0;32m    162\u001b[0m       _convert_nest_to_shapes(output_shape))\n\u001b[0;32m    164\u001b[0m \u001b[38;5;28mself\u001b[39m\u001b[38;5;241m.\u001b[39m_load_options \u001b[38;5;241m=\u001b[39m load_options\n\u001b[1;32m--> 165\u001b[0m \u001b[38;5;28mself\u001b[39m\u001b[38;5;241m.\u001b[39m_func \u001b[38;5;241m=\u001b[39m \u001b[43mload_module\u001b[49m\u001b[43m(\u001b[49m\u001b[43mhandle\u001b[49m\u001b[43m,\u001b[49m\u001b[43m \u001b[49m\u001b[43mtags\u001b[49m\u001b[43m,\u001b[49m\u001b[43m \u001b[49m\u001b[38;5;28;43mself\u001b[39;49m\u001b[38;5;241;43m.\u001b[39;49m\u001b[43m_load_options\u001b[49m\u001b[43m)\u001b[49m\n\u001b[0;32m    166\u001b[0m \u001b[38;5;28mself\u001b[39m\u001b[38;5;241m.\u001b[39m_is_hub_module_v1 \u001b[38;5;241m=\u001b[39m \u001b[38;5;28mgetattr\u001b[39m(\u001b[38;5;28mself\u001b[39m\u001b[38;5;241m.\u001b[39m_func, \u001b[38;5;124m\"\u001b[39m\u001b[38;5;124m_is_hub_module_v1\u001b[39m\u001b[38;5;124m\"\u001b[39m, \u001b[38;5;28;01mFalse\u001b[39;00m)\n\u001b[0;32m    168\u001b[0m \u001b[38;5;66;03m# Update with the defaults when using legacy TF1 Hub format.\u001b[39;00m\n",
      "File \u001b[1;32m~\\anaconda3\\envs\\myenv\\lib\\site-packages\\tensorflow_hub\\keras_layer.py:467\u001b[0m, in \u001b[0;36mload_module\u001b[1;34m(handle, tags, load_options)\u001b[0m\n\u001b[0;32m    465\u001b[0m     \u001b[38;5;28;01mexcept\u001b[39;00m \u001b[38;5;167;01mImportError\u001b[39;00m:  \u001b[38;5;66;03m# Expected before TF2.4.\u001b[39;00m\n\u001b[0;32m    466\u001b[0m       set_load_options \u001b[38;5;241m=\u001b[39m load_options\n\u001b[1;32m--> 467\u001b[0m \u001b[38;5;28;01mreturn\u001b[39;00m \u001b[43mmodule_v2\u001b[49m\u001b[38;5;241;43m.\u001b[39;49m\u001b[43mload\u001b[49m\u001b[43m(\u001b[49m\u001b[43mhandle\u001b[49m\u001b[43m,\u001b[49m\u001b[43m \u001b[49m\u001b[43mtags\u001b[49m\u001b[38;5;241;43m=\u001b[39;49m\u001b[43mtags\u001b[49m\u001b[43m,\u001b[49m\u001b[43m \u001b[49m\u001b[43moptions\u001b[49m\u001b[38;5;241;43m=\u001b[39;49m\u001b[43mset_load_options\u001b[49m\u001b[43m)\u001b[49m\n",
      "File \u001b[1;32m~\\anaconda3\\envs\\myenv\\lib\\site-packages\\tensorflow_hub\\module_v2.py:113\u001b[0m, in \u001b[0;36mload\u001b[1;34m(handle, tags, options)\u001b[0m\n\u001b[0;32m    108\u001b[0m saved_model_pbtxt_path \u001b[38;5;241m=\u001b[39m os\u001b[38;5;241m.\u001b[39mpath\u001b[38;5;241m.\u001b[39mjoin(\n\u001b[0;32m    109\u001b[0m     tf\u001b[38;5;241m.\u001b[39mcompat\u001b[38;5;241m.\u001b[39mas_bytes(module_path),\n\u001b[0;32m    110\u001b[0m     tf\u001b[38;5;241m.\u001b[39mcompat\u001b[38;5;241m.\u001b[39mas_bytes(tf\u001b[38;5;241m.\u001b[39msaved_model\u001b[38;5;241m.\u001b[39mSAVED_MODEL_FILENAME_PBTXT))\n\u001b[0;32m    111\u001b[0m \u001b[38;5;28;01mif\u001b[39;00m (\u001b[38;5;129;01mnot\u001b[39;00m tf\u001b[38;5;241m.\u001b[39mio\u001b[38;5;241m.\u001b[39mgfile\u001b[38;5;241m.\u001b[39mexists(saved_model_path) \u001b[38;5;129;01mand\u001b[39;00m\n\u001b[0;32m    112\u001b[0m     \u001b[38;5;129;01mnot\u001b[39;00m tf\u001b[38;5;241m.\u001b[39mio\u001b[38;5;241m.\u001b[39mgfile\u001b[38;5;241m.\u001b[39mexists(saved_model_pbtxt_path)):\n\u001b[1;32m--> 113\u001b[0m   \u001b[38;5;28;01mraise\u001b[39;00m \u001b[38;5;167;01mValueError\u001b[39;00m(\u001b[38;5;124m\"\u001b[39m\u001b[38;5;124mTrying to load a model of incompatible/unknown type. \u001b[39m\u001b[38;5;124m\"\u001b[39m\n\u001b[0;32m    114\u001b[0m                    \u001b[38;5;124m\"\u001b[39m\u001b[38;5;124m'\u001b[39m\u001b[38;5;132;01m%s\u001b[39;00m\u001b[38;5;124m'\u001b[39m\u001b[38;5;124m contains neither \u001b[39m\u001b[38;5;124m'\u001b[39m\u001b[38;5;132;01m%s\u001b[39;00m\u001b[38;5;124m'\u001b[39m\u001b[38;5;124m nor \u001b[39m\u001b[38;5;124m'\u001b[39m\u001b[38;5;132;01m%s\u001b[39;00m\u001b[38;5;124m'\u001b[39m\u001b[38;5;124m.\u001b[39m\u001b[38;5;124m\"\u001b[39m \u001b[38;5;241m%\u001b[39m\n\u001b[0;32m    115\u001b[0m                    (module_path, tf\u001b[38;5;241m.\u001b[39msaved_model\u001b[38;5;241m.\u001b[39mSAVED_MODEL_FILENAME_PB,\n\u001b[0;32m    116\u001b[0m                     tf\u001b[38;5;241m.\u001b[39msaved_model\u001b[38;5;241m.\u001b[39mSAVED_MODEL_FILENAME_PBTXT))\n\u001b[0;32m    118\u001b[0m \u001b[38;5;28;01mif\u001b[39;00m options:\n\u001b[0;32m    119\u001b[0m   \u001b[38;5;28;01mif\u001b[39;00m \u001b[38;5;129;01mnot\u001b[39;00m \u001b[38;5;28mhasattr\u001b[39m(\u001b[38;5;28mgetattr\u001b[39m(tf, \u001b[38;5;124m\"\u001b[39m\u001b[38;5;124msaved_model\u001b[39m\u001b[38;5;124m\"\u001b[39m, \u001b[38;5;28;01mNone\u001b[39;00m), \u001b[38;5;124m\"\u001b[39m\u001b[38;5;124mLoadOptions\u001b[39m\u001b[38;5;124m\"\u001b[39m):\n",
      "\u001b[1;31mValueError\u001b[0m: Trying to load a model of incompatible/unknown type. 'C:\\Users\\84648\\AppData\\Local\\Temp\\tfhub_modules\\4e777089f1941e0df686e25ac7b1967fd777e370' contains neither 'saved_model.pb' nor 'saved_model.pbtxt'."
     ]
    }
   ],
   "source": [
    "bert_model_name = 'SST-2'\n",
    "tfhub_handle_encoder = map_name_to_handle[bert_model_name]\n",
    "bert_model = hub.KerasLayer(tfhub_handle_encoder)\n",
    "tfhub_handle_preprocess = map_model_to_preprocess[bert_model_name]\n",
    "bert_preprocess_model = hub.KerasLayer(tfhub_handle_preprocess)\n",
    "\n",
    "print(f'BERT model selected           : {tfhub_handle_encoder}')\n",
    "print(f'Preprocess model auto-selected: {tfhub_handle_preprocess}')"
   ]
  },
  {
   "cell_type": "code",
   "execution_count": null,
   "id": "4451deea-911a-41ad-9e08-cf8053dc56e8",
   "metadata": {},
   "outputs": [],
   "source": [
    "def build_bert_classifier():\n",
    "    text_input = tf.keras.layers.Input(shape=(), dtype=tf.string, name='text')\n",
    "    preprocessing_layer = hub.KerasLayer(tfhub_handle_preprocess, name='preprocessing')\n",
    "    encoder_inputs = preprocessing_layer(text_input)\n",
    "    encoder = hub.KerasLayer(tfhub_handle_encoder, trainable=True, name='BERT_encoder')\n",
    "    outputs = encoder(encoder_inputs)\n",
    "    net = outputs['pooled_output']\n",
    "    net = tf.keras.layers.Dropout(0.1)(net)\n",
    "    net = tf.keras.layers.Dense(1, activation=None, name='classifier')(net)\n",
    "    return tf.keras.Model(text_input, net)"
   ]
  },
  {
   "cell_type": "code",
   "execution_count": 27,
   "id": "d4382e56-63ae-4ee8-96b2-2121ac496176",
   "metadata": {},
   "outputs": [],
   "source": [
    "bert_classifier = build_bert_classifier()\n",
    "#pip install pydot\n",
    "## install graphviz\n",
    "#tf.keras.utils.plot_model(bert_classifier)"
   ]
  },
  {
   "cell_type": "code",
   "execution_count": 28,
   "id": "fe3a24ef-1d1e-4711-8c38-d3581eaf51f3",
   "metadata": {},
   "outputs": [],
   "source": [
    "loss = tf.keras.losses.BinaryCrossentropy(from_logits=True)\n",
    "\n",
    "epochs = 10\n",
    "steps_per_epoch = tf.data.experimental.cardinality(train_dataset).numpy()\n",
    "num_train_steps = steps_per_epoch * epochs\n",
    "num_warmup_steps = int(0.1*num_train_steps)\n",
    "\n",
    "init_lr = 3e-5\n",
    "optimizer = optimization.create_optimizer(init_lr=init_lr,\n",
    "                                          num_train_steps=num_train_steps,\n",
    "                                          num_warmup_steps=num_warmup_steps,\n",
    "                                          optimizer_type='adamw')"
   ]
  },
  {
   "cell_type": "code",
   "execution_count": 29,
   "id": "a1db059b-27ae-4405-a9e6-e6c2e423419e",
   "metadata": {},
   "outputs": [],
   "source": [
    "#epochs = 10\n",
    "#steps_per_epoch = len(train_dataset)\n",
    "#num_train_steps = steps_per_epoch * epochs\n",
    "#num_warmup_steps = int(0.1*num_train_steps)\n",
    "#optimizer = optimization.create_optimizer(init_lr=3e-5, num_train_steps=num_train_steps, num_warmup_steps=num_warmup_steps, optimizer_type='adamw')\n",
    "#loss = tf.keras.losses.BinaryCrossentropy(from_logits=True)"
   ]
  },
  {
   "cell_type": "code",
   "execution_count": 30,
   "id": "afffe9a4-792f-494e-b73d-c52aab14dbcc",
   "metadata": {},
   "outputs": [],
   "source": [
    "\n",
    "bert_classifier.compile( optimizer=optimizer, loss=loss,  metrics=[\"accuracy\"]  )"
   ]
  },
  {
   "cell_type": "code",
   "execution_count": 31,
   "id": "4aff476a-bb9b-40a9-9c2f-3421c6828783",
   "metadata": {},
   "outputs": [
    {
     "name": "stdout",
     "output_type": "stream",
     "text": [
      "Epoch 1/6\n",
      "1039/1039 [==============================] - 189s 172ms/step - loss: 0.5887 - accuracy: 0.6740 - val_loss: 0.4725 - val_accuracy: 0.7707\n",
      "Epoch 2/6\n",
      "1039/1039 [==============================] - 177s 170ms/step - loss: 0.4510 - accuracy: 0.7905 - val_loss: 0.4839 - val_accuracy: 0.8130\n",
      "Epoch 3/6\n",
      "1039/1039 [==============================] - 177s 171ms/step - loss: 0.3651 - accuracy: 0.8488 - val_loss: 0.5810 - val_accuracy: 0.8127\n",
      "Epoch 4/6\n",
      "1039/1039 [==============================] - 178s 172ms/step - loss: 0.3110 - accuracy: 0.8801 - val_loss: 0.7045 - val_accuracy: 0.8072\n",
      "Epoch 5/6\n",
      "1039/1039 [==============================] - 177s 171ms/step - loss: 0.2628 - accuracy: 0.9106 - val_loss: 0.7564 - val_accuracy: 0.8368\n",
      "Epoch 6/6\n",
      "1039/1039 [==============================] - 179s 172ms/step - loss: 0.2163 - accuracy: 0.9310 - val_loss: 0.8369 - val_accuracy: 0.8377\n"
     ]
    },
    {
     "data": {
      "image/png": "[encoded data removed]",
      "text/plain": [
       "<Figure size 640x480 with 1 Axes>"
      ]
     },
     "metadata": {},
     "output_type": "display_data"
    },
    {
     "data": {
      "text/plain": [
       "<Figure size 640x480 with 0 Axes>"
      ]
     },
     "metadata": {},
     "output_type": "display_data"
    }
   ],
   "source": [
    "history = bert_classifier.fit( train_dataset, validation_data=val_dataset, epochs=6)\n",
    "plotEpoch( history.history )"
   ]
  },
  {
   "cell_type": "code",
   "execution_count": null,
   "id": "e132d144-f1e2-483b-b27d-6d1a8fc49280",
   "metadata": {},
   "outputs": [],
   "source": [
    "print(f\"Test acc: {bert_classifier.evaluate(val_dataset)[1]:.3f}\")"
   ]
  },
  {
   "cell_type": "code",
   "execution_count": null,
   "id": "97351fba-5d68-413c-80ec-864e2b844956",
   "metadata": {},
   "outputs": [],
   "source": [
    "bert_classifier.save('C:/Users/84648/Desktop/DeepLearningFinal/small_bert/SST-2', include_optimizer=False)\n",
    "model = tf.saved_model.load('C:/Users/84648/Desktop/DeepLearningFinal/small_bert/SST-2')"
   ]
  },
  {
   "cell_type": "code",
   "execution_count": null,
   "id": "2c2931c1-034f-419a-8261-28bd86c1e921",
   "metadata": {},
   "outputs": [],
   "source": [
    "stop"
   ]
  },
  {
   "cell_type": "code",
   "execution_count": null,
   "id": "a1dd90fe-cf65-4dd0-9230-f4de778bb6c9",
   "metadata": {},
   "outputs": [],
   "source": [
    "import pandas as pd\n",
    "df = pd.read_csv('C:/Users/84648/Desktop/DeepLearningFinal/customertweets.csv',header = None)"
   ]
  },
  {
   "cell_type": "code",
   "execution_count": null,
   "id": "4b137f8e-5f40-4336-9a13-af03863e086c",
   "metadata": {},
   "outputs": [],
   "source": []
  },
  {
   "cell_type": "code",
   "execution_count": null,
   "id": "7df57fe7-c2cd-48b0-a20a-91fdb78b8c44",
   "metadata": {},
   "outputs": [],
   "source": [
    "\n",
    "for i in range (1,50000):\n",
    "    df.loc[i,2]=float(tf.sigmoid( model(tf.constant([df.loc[i,1]]))))\n",
    "    print (i) \n",
    "df = df.loc[1:50000]\n",
    "\n",
    "df = pd.to_csv('C:/Users/84648/Desktop/DeepLearningFinal/customertweets_1.csv',header = None)"
   ]
  },
  {
   "cell_type": "code",
   "execution_count": null,
   "id": "86aa4252-5e33-40fc-ae91-be1ebca11cd2",
   "metadata": {},
   "outputs": [],
   "source": [
    "df.to_csv('C:/Users/84648/Desktop/DeepLearningFinal/customertweets_1.csv',header = None)"
   ]
  },
  {
   "cell_type": "code",
   "execution_count": null,
   "id": "2f3d137b-9d6b-498c-b05f-63d53f6b2d42",
   "metadata": {
    "scrolled": true
   },
   "outputs": [],
   "source": [
    "df = pd.read_csv('C:/Users/84648/Desktop/DeepLearningFinal/customertweets.csv',header = None)\n",
    "for i in range (50000,100000):\n",
    "    df.loc[i,2]=float(tf.sigmoid( model(tf.constant([df.loc[i,1]]))))\n",
    "    print (i) \n",
    "df = df.loc[50000:100000]\n",
    "df.to_csv('C:/Users/84648/Desktop/DeepLearningFinal/customertweets_2.csv',header = None)"
   ]
  },
  {
   "cell_type": "code",
   "execution_count": null,
   "id": "a5f50f36-fdf4-43f3-b972-88e1d6497606",
   "metadata": {
    "scrolled": true
   },
   "outputs": [],
   "source": [
    "df = pd.read_csv('C:/Users/84648/Desktop/DeepLearningFinal/customertweets.csv',header = None)\n",
    "for i in range (100000,len(df)):\n",
    "    df.loc[i,2]=float(tf.sigmoid( model(tf.constant([df.loc[i,1]]))))\n",
    "    print (i) \n",
    "df = df.loc[100000:]\n",
    "df.to_csv('C:/Users/84648/Desktop/DeepLearningFinal/customertweets_3.csv',header = None)"
   ]
  },
  {
   "cell_type": "code",
   "execution_count": null,
   "id": "7190dec1-bf7e-4105-a3b5-ac741644e6bf",
   "metadata": {},
   "outputs": [],
   "source": [
    "df1 = pd.read_csv('C:/Users/84648/Desktop/DeepLearningFinal/customertweets_1.csv',header = None)\n",
    "df2 = pd.read_csv('C:/Users/84648/Desktop/DeepLearningFinal/customertweets_2.csv',header = None)\n",
    "df3 = pd.read_csv('C:/Users/84648/Desktop/DeepLearningFinal/customertweets_3.csv',header = None)\n",
    "frames = [df1, df2, df3]\n",
    "\n",
    "result = pd.concat(frames)\n",
    "result"
   ]
  },
  {
   "cell_type": "code",
   "execution_count": null,
   "id": "978001f9-8e35-4aca-b898-268589eb2b32",
   "metadata": {},
   "outputs": [],
   "source": []
  },
  {
   "cell_type": "code",
   "execution_count": null,
   "id": "5b046cce-891a-4ae3-98fe-2860e8e5ce4c",
   "metadata": {},
   "outputs": [],
   "source": []
  },
  {
   "cell_type": "code",
   "execution_count": null,
   "id": "401ab45f-2003-46b1-861a-15b844a78123",
   "metadata": {},
   "outputs": [],
   "source": [
    "result.to_csv('C:/Users/84648/Desktop/DeepLearningFinal/SST-2_result.csv', index=False)\n",
    "sum(result[3] >.9)/len(result)"
   ]
  },
  {
   "cell_type": "code",
   "execution_count": null,
   "id": "21805643-f4c1-4f92-a286-e2037494056f",
   "metadata": {},
   "outputs": [],
   "source": [
    "result = pd.read_csv('C:/Users/84648/Desktop/DeepLearningFinal/SST-2_result.csv',header = None)"
   ]
  },
  {
   "cell_type": "code",
   "execution_count": null,
   "id": "9b62e941-bde0-4b17-8c7c-c6ef5cef899d",
   "metadata": {},
   "outputs": [],
   "source": [
    "result = result[result[3]>0.5][[0,2]]\n",
    "result.to_csv('C:/Users/84648/Desktop/DeepLearningFinal/SST-2_extract.csv', index=False)"
   ]
  },
  {
   "cell_type": "code",
   "execution_count": null,
   "id": "0848eee8-d855-41f1-b2b4-60014a941eba",
   "metadata": {},
   "outputs": [],
   "source": []
  },
  {
   "cell_type": "code",
   "execution_count": null,
   "id": "3d79d610-ad41-429c-aedf-b63ff4b90ea1",
   "metadata": {},
   "outputs": [],
   "source": []
  },
  {
   "cell_type": "code",
   "execution_count": null,
   "id": "17299813-c29b-4a46-843f-be0570de1047",
   "metadata": {},
   "outputs": [],
   "source": [
    "bert_classifier.summary()"
   ]
  },
  {
   "cell_type": "code",
   "execution_count": null,
   "id": "6cb162f1-a17d-4efe-8713-7cacc4dec0e2",
   "metadata": {},
   "outputs": [],
   "source": [
    "https://www.tensorflow.org/hub/api_docs/python/hub/load"
   ]
  },
  {
   "cell_type": "code",
   "execution_count": null,
   "id": "5d03f807-18b5-461f-acf2-68e7587982f6",
   "metadata": {},
   "outputs": [],
   "source": [
    "https://www.kaggle.com/models/google/experts-bert/frameworks/tensorFlow2/variations/wiki-books-sst2"
   ]
  },
  {
   "cell_type": "code",
   "execution_count": null,
   "id": "8c5252d0-10a8-4cce-9424-fc5ced124184",
   "metadata": {},
   "outputs": [],
   "source": [
    "https://www.tensorflow.org/hub?hl=zh-cn"
   ]
  },
  {
   "cell_type": "code",
   "execution_count": null,
   "id": "79c3c9fc-8af0-41b2-9589-371c063a8589",
   "metadata": {},
   "outputs": [],
   "source": [
    "https://www.tensorflow.org/text/tutorials/classify_text_with_bert"
   ]
  },
  {
   "cell_type": "code",
   "execution_count": null,
   "id": "fa751dd4-7307-4d71-b68d-0472140e5daf",
   "metadata": {},
   "outputs": [],
   "source": [
    "https://medium.com/@pawan329/text-data-preprocessing-made-easy-steps-to-clean-text-data-using-python-81a138a0e0e3"
   ]
  },
  {
   "cell_type": "code",
   "execution_count": null,
   "id": "cfed81f0-b6e9-47f3-b08f-339c1ea19b3d",
   "metadata": {},
   "outputs": [],
   "source": []
  },
  {
   "cell_type": "code",
   "execution_count": null,
   "id": "14bd4acb-bb44-4cfa-a665-6b5665e04578",
   "metadata": {},
   "outputs": [],
   "source": []
  },
  {
   "cell_type": "code",
   "execution_count": null,
   "id": "2a166fc2-58db-4466-99a3-2c6c0bbfbcae",
   "metadata": {},
   "outputs": [],
   "source": []
  },
  {
   "cell_type": "code",
   "execution_count": null,
   "id": "b570aa8a-e9e5-481b-b4d9-ac0f57bb455d",
   "metadata": {},
   "outputs": [],
   "source": []
  },
  {
   "cell_type": "code",
   "execution_count": null,
   "id": "de4494a7-da00-429a-8ce3-bde900baebfa",
   "metadata": {},
   "outputs": [],
   "source": []
  },
  {
   "cell_type": "code",
   "execution_count": null,
   "id": "ac693ac6-b22d-49e7-9b28-7b51e24ab325",
   "metadata": {},
   "outputs": [],
   "source": []
  }
 ],
 "metadata": {
  "kernelspec": {
   "display_name": "Python (myenv)",
   "language": "python",
   "name": "myenv"
  },
  "language_info": {
   "codemirror_mode": {
    "name": "ipython",
    "version": 3
   },
   "file_extension": ".py",
   "mimetype": "text/x-python",
   "name": "python",
   "nbconvert_exporter": "python",
   "pygments_lexer": "ipython3",
   "version": "3.8.18"
  }
 },
 "nbformat": 4,
 "nbformat_minor": 5
}
